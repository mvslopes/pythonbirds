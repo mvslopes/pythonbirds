{
  "nbformat": 4,
  "nbformat_minor": 0,
  "metadata": {
    "colab": {
      "provenance": [],
      "cell_execution_strategy": "setup",
      "authorship_tag": "ABX9TyPSQ/2wKD4KlPjVYpcg00SV",
      "include_colab_link": true
    },
    "kernelspec": {
      "name": "python3",
      "display_name": "Python 3"
    },
    "language_info": {
      "name": "python"
    }
  },
  "cells": [
    {
      "cell_type": "markdown",
      "metadata": {
        "id": "view-in-github",
        "colab_type": "text"
      },
      "source": [
        "<a href=\"https://colab.research.google.com/github/mvslopes/pythonbirds/blob/simples/PRODUTIVIDADE_CD23.ipynb\" target=\"_parent\"><img src=\"https://colab.research.google.com/assets/colab-badge.svg\" alt=\"Open In Colab\"/></a>"
      ]
    },
    {
      "cell_type": "markdown",
      "source": [
        "#**ANÁLISE DESCRITIVA**\n",
        "* **Dados da Produtividade das Linhas de Separação**\n",
        "* **Centro de Distribuição de produtos de cabelos e pele**"
      ],
      "metadata": {
        "id": "wK5zisGK7zSc"
      }
    },
    {
      "cell_type": "markdown",
      "source": [
        "##**01-Objetivo**"
      ],
      "metadata": {
        "id": "pllTHe6x8O_C"
      }
    },
    {
      "cell_type": "markdown",
      "source": [
        "##**02-Instalando e Carregando Pacotes**"
      ],
      "metadata": {
        "id": "t5GBatGK8V4I"
      }
    },
    {
      "cell_type": "code",
      "source": [
        "from google.colab import drive\n",
        "drive.mount('/content/drive')"
      ],
      "metadata": {
        "colab": {
          "base_uri": "https://localhost:8080/"
        },
        "id": "k4KCqsvR8xRC",
        "outputId": "5dbb63a2-5626-4d6b-df89-68599a9be3b8"
      },
      "execution_count": 5,
      "outputs": [
        {
          "output_type": "stream",
          "name": "stdout",
          "text": [
            "Mounted at /content/drive\n"
          ]
        }
      ]
    },
    {
      "cell_type": "code",
      "execution_count": 6,
      "metadata": {
        "id": "P9iXr-lS2-hB"
      },
      "outputs": [],
      "source": [
        "# Imports\n",
        "import pandas as pd\n",
        "import numpy as np\n",
        "import seaborn as sns\n",
        "import matplotlib.pyplot as plt\n",
        "import plotly.express as px\n",
        "import plotly.graph_objects as go"
      ]
    },
    {
      "cell_type": "markdown",
      "source": [
        "##**03-Carregando e compreendendo os dados**"
      ],
      "metadata": {
        "id": "ZA4ysvps9L31"
      }
    },
    {
      "cell_type": "code",
      "source": [
        "dfprod = pd.read_csv(\"/home/PRODUTIVIDADE_CD23.csv\",encoding = \"ISO-8859-1\")\n",
        "# 01- código para carregar o dataset de produtividade das linhas de separação do centro de Distrbuição."
      ],
      "metadata": {
        "id": "aTDEtaKj3GJo"
      },
      "execution_count": 7,
      "outputs": []
    },
    {
      "cell_type": "code",
      "source": [
        "dfprod.shape\n",
        "# 02- código para mostrar a quantidade de linhas e colunas do dataframe.\n",
        "# Temos 21.840 linhas e 07 colunas."
      ],
      "metadata": {
        "colab": {
          "base_uri": "https://localhost:8080/"
        },
        "id": "6GT2ZQfP4YI1",
        "outputId": "daefaac8-9af1-4c43-b252-4acee7f6ce3a"
      },
      "execution_count": 8,
      "outputs": [
        {
          "output_type": "execute_result",
          "data": {
            "text/plain": [
              "(21840, 7)"
            ]
          },
          "metadata": {},
          "execution_count": 8
        }
      ]
    },
    {
      "cell_type": "code",
      "source": [
        "dfprod.isna().sum()\n",
        "# 03- código para contar o número de valores nulos (NaN) em cada coluna do dataFrame.\n",
        "# Não temos nenhum valor nulo."
      ],
      "metadata": {
        "colab": {
          "base_uri": "https://localhost:8080/"
        },
        "id": "PMycoa7_9T6e",
        "outputId": "ba47a2e0-40b1-4316-e58a-5f21cb9a89d1"
      },
      "execution_count": 9,
      "outputs": [
        {
          "output_type": "execute_result",
          "data": {
            "text/plain": [
              "data_sep         0\n",
              "mes              0\n",
              "hora_sep         0\n",
              "turno_sep        0\n",
              "linha_sep        0\n",
              "categoria        0\n",
              "produtividade    0\n",
              "dtype: int64"
            ]
          },
          "metadata": {},
          "execution_count": 9
        }
      ]
    },
    {
      "cell_type": "code",
      "source": [],
      "metadata": {
        "id": "pK-UfZTQ9Zud"
      },
      "execution_count": null,
      "outputs": []
    }
  ]
}