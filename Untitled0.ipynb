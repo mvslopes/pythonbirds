{
  "nbformat": 4,
  "nbformat_minor": 0,
  "metadata": {
    "colab": {
      "private_outputs": true,
      "provenance": [],
      "authorship_tag": "ABX9TyOu7PnFRq/VAA22QLFosTSe",
      "include_colab_link": true
    },
    "kernelspec": {
      "name": "python3",
      "display_name": "Python 3"
    },
    "language_info": {
      "name": "python"
    }
  },
  "cells": [
    {
      "cell_type": "markdown",
      "metadata": {
        "id": "view-in-github",
        "colab_type": "text"
      },
      "source": [
        "<a href=\"https://colab.research.google.com/github/mvslopes/pythonbirds/blob/simples/Untitled0.ipynb\" target=\"_parent\"><img src=\"https://colab.research.google.com/assets/colab-badge.svg\" alt=\"Open In Colab\"/></a>"
      ]
    },
    {
      "cell_type": "code",
      "execution_count": null,
      "metadata": {
        "id": "_-10TWHu0Suc"
      },
      "outputs": [],
      "source": [
        "from google.colab import drive\n",
        "drive.mount('/content/drive')"
      ]
    },
    {
      "cell_type": "code",
      "source": [
        "# Imports\n",
        "import pandas as pd\n",
        "import numpy as np\n",
        "import seaborn as sns\n",
        "import matplotlib.pyplot as plt\n",
        "import plotly.express as px\n",
        "import plotly.graph_objects as go"
      ],
      "metadata": {
        "id": "gZ9PIvsO0dtg"
      },
      "execution_count": null,
      "outputs": []
    },
    {
      "cell_type": "code",
      "source": [
        "dfprod = pd.read_csv(\"/content/drive/MyDrive/\\\n",
        "02-PROJETOS/06_ANALISE_PRODUTIVIDADE_CD/PRODUTIVIDADE_CD23.csv\",encoding =\\\n",
        "                     \"ISO-8859-1\")\n",
        "# 01-código para carregar o dataset de produtividade das linhas de separação"
      ],
      "metadata": {
        "id": "3E-Sg_9q0hge"
      },
      "execution_count": null,
      "outputs": []
    },
    {
      "cell_type": "code",
      "source": [
        "dfprod.shape\n",
        "# 02-código para mostrar a quantidade de linhas e colunas do dataframe.\n",
        "# Temos 21.840 linhas e 07 colunas."
      ],
      "metadata": {
        "id": "XIgbswJ40jTG"
      },
      "execution_count": null,
      "outputs": []
    }
  ]
}